{
 "cells": [
  {
   "cell_type": "code",
   "execution_count": 14,
   "metadata": {},
   "outputs": [],
   "source": [
    "import wikisearch\n",
    "import wikipedia\n",
    "import string\n",
    "import sys\n",
    "import numpy as np"
   ]
  },
  {
   "cell_type": "code",
   "execution_count": 6,
   "metadata": {},
   "outputs": [],
   "source": [
    "def check_links_subjects(model,current,subs,visited):\n",
    "    \"\"\"Uses the input model to check the similarity of the links in the current page\n",
    "    to the title of the target page.\"\"\"\n",
    "    #get links from current\n",
    "    links = current.links\n",
    "    success = []\n",
    "    errors = []\n",
    "    \n",
    "    #check links against model for relevence to target subject\n",
    "    for l in links:\n",
    "        for word in l.split(' '):\n",
    "            word = word.lower()\n",
    "            try:\n",
    "                for targetword in subs:\n",
    "                    dist = model.wv.distance(word,targetword.lower())\n",
    "                    if dist < 0.08 and l not in visited:\n",
    "                        success.append((l,dist))\n",
    "                        break\n",
    "            except KeyError:\n",
    "                errors.append(word)\n",
    "    #if related links found, use most related link, otherwise random\n",
    "    if len(success) > 0:\n",
    "        success.sort(key=lambda tup: tup[1])\n",
    "        return success[0][0]\n",
    "    else:\n",
    "        skiplist = ['Wikipedia', 'Category']\n",
    "        title = links[np.random.randint(0,len(links))]\n",
    "        while any(sub in title for sub in skiplist):\n",
    "            title = links[np.random.randint(0,len(links))]\n",
    "        return title"
   ]
  },
  {
   "cell_type": "code",
   "execution_count": 44,
   "metadata": {},
   "outputs": [],
   "source": [
    "def search_subject(start,subs):\n",
    "    start_page = wikipedia.page(start)\n",
    "    closest = (\"none\",sys.maxsize)\n",
    "    print(\"0 : \" + wikipedia.page(start).title)\n",
    "    # if 'path' in locals():\n",
    "    #     if target_page not in path:\n",
    "    path = [start_page]\n",
    "    visited = set()\n",
    "    visited.add(start)\n",
    "    title = start\n",
    "    exit = False\n",
    "    #i = 0\n",
    "\n",
    "    for i in range(20):\n",
    "    #while not exit:\n",
    "        try:\n",
    "\n",
    "            #get next page\n",
    "            current = wikipedia.page(title)\n",
    "            #test for target page\n",
    "            #if current not in path:\n",
    "            path.append(current)\n",
    "            #create model\n",
    "            model = wikisearch.make_model_new(path)\n",
    "            #get common words in current page\n",
    "            if current != start_page:\n",
    "                top_20 = wikisearch.get_50_most_common(current.content)[:20]\n",
    "\n",
    "                #test for similarity to subject\n",
    "                match = {sub:False for sub in subs}\n",
    "                for word,freq in top_20:\n",
    "                    try:\n",
    "                        for sub in subs:\n",
    "                            dist = model.wv.distance(word,sub)\n",
    "                            if dist < 0.06:\n",
    "                                match[sub] = True\n",
    "                        if False not in match.values():\n",
    "                            print(\"Match Found\")\n",
    "                            exit = True\n",
    "                    except KeyError:\n",
    "                        pass\n",
    "                if exit:\n",
    "                    break\n",
    "                search_success = True\n",
    "        except wikipedia.exceptions.DisambiguationError:\n",
    "            search_success = False\n",
    "        except wikipedia.exceptions.PageError:\n",
    "            search_success = False\n",
    "\n",
    "        #get next link\n",
    "        title = check_links_subjects(model,current,subs,visited)\n",
    "        visited.add(title)\n",
    "        if i % 10 == 0:\n",
    "            print(\".\",end=\"\")\n",
    "        #i += 1\n",
    "\n",
    "    print(\"Page Found!\") if exit else print(\"Not Found\")\n",
    "    print(str(i) + \": Matching page: \" + title)"
   ]
  },
  {
   "cell_type": "code",
   "execution_count": 46,
   "metadata": {},
   "outputs": [
    {
     "name": "stdout",
     "output_type": "stream",
     "text": [
      "0 : Catwoman\n",
      ".Match Found\n",
      "Match Found\n",
      "Match Found\n",
      "Match Found\n",
      "Match Found\n",
      "Match Found\n",
      "Match Found\n",
      "Match Found\n",
      "Match Found\n",
      "Match Found\n",
      "Match Found\n",
      "Match Found\n",
      "Page Found!\n",
      "1: Matching page: Superman/Wonder Woman\n"
     ]
    }
   ],
   "source": [
    "search_subject('Catwoman',['batman',''])"
   ]
  },
  {
   "cell_type": "code",
   "execution_count": 47,
   "metadata": {},
   "outputs": [],
   "source": [
    "ww = wikipedia.page('Catwoman')\n",
    "model = wikisearch.make_model_new([ww])"
   ]
  },
  {
   "cell_type": "code",
   "execution_count": 3,
   "metadata": {},
   "outputs": [
    {
     "data": {
      "text/plain": [
       "1389"
      ]
     },
     "execution_count": 3,
     "metadata": {},
     "output_type": "execute_result"
    }
   ],
   "source": [
    "len(model.wv.vocab)"
   ]
  },
  {
   "cell_type": "code",
   "execution_count": 28,
   "metadata": {},
   "outputs": [],
   "source": [
    "text = ww.content.split(' ')"
   ]
  },
  {
   "cell_type": "code",
   "execution_count": 48,
   "metadata": {},
   "outputs": [
    {
     "data": {
      "text/plain": [
       "[('batman', 193),\n",
       " ('selina', 166),\n",
       " ('catwoman', 165),\n",
       " ('bruce', 53),\n",
       " ('comic', 38),\n",
       " ('stori', 36),\n",
       " ('kyle', 30),\n",
       " ('gotham', 30),\n",
       " ('seri', 29),\n",
       " ('appear', 28),\n",
       " ('later', 28),\n",
       " ('time', 27),\n",
       " ('reveal', 27),\n",
       " ('wayn', 27),\n",
       " ('charact', 24),\n",
       " ('relationship', 24),\n",
       " ('also', 23),\n",
       " ('take', 22),\n",
       " ('return', 22),\n",
       " ('year', 22),\n",
       " ('citi', 21),\n",
       " ('joker', 21),\n",
       " ('costum', 21),\n",
       " ('earth', 20),\n",
       " ('use', 19),\n",
       " ('origin', 19),\n",
       " ('howev', 19),\n",
       " ('becom', 19),\n",
       " ('daughter', 19),\n",
       " ('mask', 18),\n",
       " ('black', 17),\n",
       " ('find', 16),\n",
       " ('hush', 16),\n",
       " ('name', 15),\n",
       " ('holli', 15),\n",
       " ('first', 15),\n",
       " ('leav', 15),\n",
       " ('maggi', 15),\n",
       " ('kill', 15),\n",
       " ('villain', 14),\n",
       " ('escap', 14),\n",
       " ('help', 14),\n",
       " ('storylin', 14),\n",
       " ('ident', 13),\n",
       " ('film', 13),\n",
       " ('murder', 13),\n",
       " ('zatanna', 13),\n",
       " ('tell', 13),\n",
       " ('book', 12),\n",
       " ('issu', 12)]"
      ]
     },
     "execution_count": 48,
     "metadata": {},
     "output_type": "execute_result"
    }
   ],
   "source": [
    "wikisearch.get_50_most_common(ww.content)"
   ]
  },
  {
   "cell_type": "code",
   "execution_count": 35,
   "metadata": {},
   "outputs": [
    {
     "data": {
      "text/plain": [
       "3"
      ]
     },
     "execution_count": 35,
     "metadata": {},
     "output_type": "execute_result"
    }
   ],
   "source": [
    "test = {'a':1,'b':2,'c':3}\n",
    "len(test)"
   ]
  },
  {
   "cell_type": "code",
   "execution_count": 50,
   "metadata": {},
   "outputs": [
    {
     "data": {
      "text/plain": [
       "0.0008208751678466797"
      ]
     },
     "execution_count": 50,
     "metadata": {},
     "output_type": "execute_result"
    }
   ],
   "source": [
    "model.wv.distance('catwoman','woman')"
   ]
  },
  {
   "cell_type": "code",
   "execution_count": 41,
   "metadata": {},
   "outputs": [
    {
     "data": {
      "text/plain": [
       "\"{'a': 1, 'b': 2, 'c': 3}\""
      ]
     },
     "execution_count": 41,
     "metadata": {},
     "output_type": "execute_result"
    }
   ],
   "source": [
    "test.__repr__()"
   ]
  },
  {
   "cell_type": "code",
   "execution_count": null,
   "metadata": {},
   "outputs": [],
   "source": [
    "\"{'a': 1, 'b': 2, 'c': 3}\""
   ]
  }
 ],
 "metadata": {
  "kernelspec": {
   "display_name": "Python 3",
   "language": "python",
   "name": "python3"
  },
  "language_info": {
   "codemirror_mode": {
    "name": "ipython",
    "version": 3
   },
   "file_extension": ".py",
   "mimetype": "text/x-python",
   "name": "python",
   "nbconvert_exporter": "python",
   "pygments_lexer": "ipython3",
   "version": "3.7.5"
  }
 },
 "nbformat": 4,
 "nbformat_minor": 4
}
