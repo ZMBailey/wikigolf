{
 "cells": [
  {
   "cell_type": "code",
   "execution_count": 1,
   "metadata": {},
   "outputs": [],
   "source": [
    "import wikisearch\n",
    "import wikipedia\n",
    "import string"
   ]
  },
  {
   "cell_type": "code",
   "execution_count": null,
   "metadata": {},
   "outputs": [],
   "source": [
    "def search_subject(start,subs):\n",
    "    start_page = wikipedia.page(start)\n",
    "    closest = (\"none\",sys.maxsize)\n",
    "    print(\"0 : \" + wikipedia.page(start).title)\n",
    "    # if 'path' in locals():\n",
    "    #     if target_page not in path:\n",
    "    path = [target_page]\n",
    "    visited = set()\n",
    "    visited.add(start)\n",
    "    title = start\n",
    "    exit = False\n",
    "    #i = 0\n",
    "\n",
    "    for i in range(100):\n",
    "    #while not exit:\n",
    "        try:\n",
    "\n",
    "            #get next page\n",
    "            current = wikipedia.page(title)\n",
    "            #test for target page\n",
    "            #if current not in path:\n",
    "            path.append(current)\n",
    "            #create model\n",
    "            model = wikisearch.make_model_new(path)\n",
    "            #get common words in current page\n",
    "            top_20 = wikisearch.get_50_most_common(current.content)[:20]\n",
    "\n",
    "            #test for similarity to target page\n",
    "            for word,freq in top_20:\n",
    "                match = []\n",
    "                try:\n",
    "                    for sub in subs:\n",
    "                        dist = model.wv.distance(word,sub)\n",
    "                        if dist < 0.2:\n",
    "                            match.append(True)\n",
    "                        else:\n",
    "                            match.append(False)\n",
    "                except KeyError:\n",
    "                    pass\n",
    "            if len(match) > 0 and False not in match:\n",
    "                break\n",
    "            search_success = True\n",
    "        except wikipedia.exceptions.DisambiguationError:\n",
    "            search_success = False\n",
    "        except wikipedia.exceptions.PageError:\n",
    "            search_success = False\n",
    "\n",
    "        #get next link\n",
    "        title = wikisearch.check_links(model,current,target,visited)\n",
    "        visited.add(title)\n",
    "        if i % 10 == 0:\n",
    "            print(\".\",end=\"\")\n",
    "        #i += 1\n",
    "\n",
    "    print(\"Page Found!\") if exit else print(\"Not Found, closest page was: \" + closest[0])\n",
    "    print(str(i) + \": Matching page: \" + title)"
   ]
  },
  {
   "cell_type": "code",
   "execution_count": 2,
   "metadata": {},
   "outputs": [],
   "source": [
    "ww = wikipedia.page('Wonder Woman')\n",
    "model = wikisearch.make_model_new([ww])"
   ]
  },
  {
   "cell_type": "code",
   "execution_count": 3,
   "metadata": {},
   "outputs": [
    {
     "data": {
      "text/plain": [
       "1389"
      ]
     },
     "execution_count": 3,
     "metadata": {},
     "output_type": "execute_result"
    }
   ],
   "source": [
    "len(model.wv.vocab)"
   ]
  },
  {
   "cell_type": "code",
   "execution_count": 28,
   "metadata": {},
   "outputs": [],
   "source": [
    "text = ww.content.split(' ')"
   ]
  },
  {
   "cell_type": "code",
   "execution_count": 45,
   "metadata": {},
   "outputs": [
    {
     "data": {
      "text/plain": [
       "4434"
      ]
     },
     "execution_count": 45,
     "metadata": {},
     "output_type": "execute_result"
    }
   ],
   "source": [
    "pre"
   ]
  },
  {
   "cell_type": "code",
   "execution_count": 66,
   "metadata": {},
   "outputs": [
    {
     "data": {
      "text/plain": [
       "12"
      ]
     },
     "execution_count": 66,
     "metadata": {},
     "output_type": "execute_result"
    }
   ],
   "source": []
  },
  {
   "cell_type": "code",
   "execution_count": 5,
   "metadata": {},
   "outputs": [
    {
     "data": {
      "text/plain": [
       "0.0006876587867736816"
      ]
     },
     "execution_count": 5,
     "metadata": {},
     "output_type": "execute_result"
    }
   ],
   "source": [
    "model.wv.distance('cheetah','villain')"
   ]
  },
  {
   "cell_type": "code",
   "execution_count": null,
   "metadata": {},
   "outputs": [],
   "source": []
  }
 ],
 "metadata": {
  "kernelspec": {
   "display_name": "Python 3",
   "language": "python",
   "name": "python3"
  },
  "language_info": {
   "codemirror_mode": {
    "name": "ipython",
    "version": 3
   },
   "file_extension": ".py",
   "mimetype": "text/x-python",
   "name": "python",
   "nbconvert_exporter": "python",
   "pygments_lexer": "ipython3",
   "version": "3.7.5"
  }
 },
 "nbformat": 4,
 "nbformat_minor": 4
}
