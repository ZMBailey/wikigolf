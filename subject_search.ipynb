{
 "cells": [
  {
   "cell_type": "code",
   "execution_count": 14,
   "metadata": {},
   "outputs": [],
   "source": [
    "import wikisearch\n",
    "import wikipedia\n",
    "import string\n",
    "import sys\n",
    "import numpy as np"
   ]
  },
  {
   "cell_type": "code",
   "execution_count": 6,
   "metadata": {},
   "outputs": [],
   "source": [
    "def check_links_subjects(model,current,subs,visited):\n",
    "    \"\"\"Uses the input model to check the similarity of the links in the current page\n",
    "    to the title of the target page.\"\"\"\n",
    "    #get links from current\n",
    "    links = current.links\n",
    "    success = []\n",
    "    errors = []\n",
    "    \n",
    "    #check links against model for relevence to target subject\n",
    "    for l in links:\n",
    "        for word in l.split(' '):\n",
    "            word = word.lower()\n",
    "            try:\n",
    "                for targetword in subs:\n",
    "                    dist = model.wv.distance(word,targetword.lower())\n",
    "                    if dist < 0.08 and l not in visited:\n",
    "                        success.append((l,dist))\n",
    "                        break\n",
    "            except KeyError:\n",
    "                errors.append(word)\n",
    "    #if related links found, use most related link, otherwise random\n",
    "    if len(success) > 0:\n",
    "        success.sort(key=lambda tup: tup[1])\n",
    "        return success[0][0]\n",
    "    else:\n",
    "        skiplist = ['Wikipedia', 'Category']\n",
    "        title = links[np.random.randint(0,len(links))]\n",
    "        while any(sub in title for sub in skiplist):\n",
    "            title = links[np.random.randint(0,len(links))]\n",
    "        return title"
   ]
  },
  {
   "cell_type": "code",
   "execution_count": 15,
   "metadata": {},
   "outputs": [],
   "source": [
    "def search_subject(start,subs):\n",
    "    start_page = wikipedia.page(start)\n",
    "    closest = (\"none\",sys.maxsize)\n",
    "    print(\"0 : \" + wikipedia.page(start).title)\n",
    "    # if 'path' in locals():\n",
    "    #     if target_page not in path:\n",
    "    path = [start_page]\n",
    "    visited = set()\n",
    "    visited.add(start)\n",
    "    title = start\n",
    "    exit = False\n",
    "    #i = 0\n",
    "\n",
    "    for i in range(25):\n",
    "    #while not exit:\n",
    "        try:\n",
    "\n",
    "            #get next page\n",
    "            current = wikipedia.page(title)\n",
    "            #test for target page\n",
    "            #if current not in path:\n",
    "            path.append(current)\n",
    "            #create model\n",
    "            model = wikisearch.make_model_new(path)\n",
    "            #get common words in current page\n",
    "            top_20 = wikisearch.get_50_most_common(current.content)[:20]\n",
    "\n",
    "            #test for similarity to subject\n",
    "            for word,freq in top_20:\n",
    "                match = []\n",
    "                try:\n",
    "                    for sub in subs:\n",
    "                        dist = model.wv.distance(word,sub)\n",
    "                        if dist < 0.06:\n",
    "                            match.append(True)\n",
    "                        else:\n",
    "                            match.append(False)\n",
    "                except KeyError:\n",
    "                    pass\n",
    "            if len(match) > 0 and False not in match:\n",
    "                break\n",
    "            search_success = True\n",
    "        except wikipedia.exceptions.DisambiguationError:\n",
    "            search_success = False\n",
    "        except wikipedia.exceptions.PageError:\n",
    "            search_success = False\n",
    "\n",
    "        #get next link\n",
    "        title = check_links_subjects(model,current,subs,visited)\n",
    "        visited.add(title)\n",
    "        if i % 10 == 0:\n",
    "            print(\".\",end=\"\")\n",
    "        #i += 1\n",
    "\n",
    "    print(\"Page Found!\") if exit else print(\"Not Found\")\n",
    "    print(str(i) + \": Matching page: \" + title)"
   ]
  },
  {
   "cell_type": "code",
   "execution_count": null,
   "metadata": {},
   "outputs": [
    {
     "name": "stdout",
     "output_type": "stream",
     "text": [
      "0 : Wonder Woman\n",
      ".."
     ]
    }
   ],
   "source": [
    "search_subject('Wonder Woman',['woman','superhero'])"
   ]
  },
  {
   "cell_type": "code",
   "execution_count": 2,
   "metadata": {},
   "outputs": [],
   "source": [
    "ww = wikipedia.page('Wonder Woman')\n",
    "model = wikisearch.make_model_new([ww])"
   ]
  },
  {
   "cell_type": "code",
   "execution_count": 3,
   "metadata": {},
   "outputs": [
    {
     "data": {
      "text/plain": [
       "1389"
      ]
     },
     "execution_count": 3,
     "metadata": {},
     "output_type": "execute_result"
    }
   ],
   "source": [
    "len(model.wv.vocab)"
   ]
  },
  {
   "cell_type": "code",
   "execution_count": 28,
   "metadata": {},
   "outputs": [],
   "source": [
    "text = ww.content.split(' ')"
   ]
  },
  {
   "cell_type": "code",
   "execution_count": 16,
   "metadata": {},
   "outputs": [
    {
     "data": {
      "text/plain": [
       "[('woman', 300),\n",
       " ('wonder', 294),\n",
       " ('diana', 162),\n",
       " ('comic', 64),\n",
       " ('power', 60),\n",
       " ('charact', 57),\n",
       " ('amazon', 56),\n",
       " ('marston', 49),\n",
       " ('hippolyta', 40),\n",
       " ('women', 40),\n",
       " ('origin', 39),\n",
       " ('world', 39),\n",
       " ('stori', 34),\n",
       " ('would', 34),\n",
       " ('also', 32),\n",
       " ('issu', 32),\n",
       " ('first', 30),\n",
       " ('make', 30),\n",
       " ('superman', 29),\n",
       " ('steve', 29),\n",
       " ('princ', 28),\n",
       " ('time', 27),\n",
       " ('outfit', 27),\n",
       " ('bracelet', 26),\n",
       " ('earth', 26),\n",
       " ('continu', 25),\n",
       " ('golden', 25),\n",
       " ('seri', 25),\n",
       " ('later', 25),\n",
       " ('take', 24),\n",
       " ('role', 24),\n",
       " ('creat', 23),\n",
       " ('year', 23),\n",
       " ('lasso', 23),\n",
       " ('come', 23),\n",
       " ('includ', 22),\n",
       " ('know', 22),\n",
       " ('strength', 22),\n",
       " ('kill', 22),\n",
       " ('book', 21),\n",
       " ('themyscira', 21),\n",
       " ('give', 21),\n",
       " ('return', 21),\n",
       " ('costum', 21),\n",
       " ('reveal', 21),\n",
       " ('abil', 21),\n",
       " ('like', 21),\n",
       " ('island', 20),\n",
       " ('god', 20),\n",
       " ('zeus', 20)]"
      ]
     },
     "execution_count": 16,
     "metadata": {},
     "output_type": "execute_result"
    }
   ],
   "source": [
    "wikisearch.get_50_most_common(ww.content)"
   ]
  },
  {
   "cell_type": "code",
   "execution_count": 66,
   "metadata": {},
   "outputs": [
    {
     "data": {
      "text/plain": [
       "12"
      ]
     },
     "execution_count": 66,
     "metadata": {},
     "output_type": "execute_result"
    }
   ],
   "source": []
  },
  {
   "cell_type": "code",
   "execution_count": null,
   "metadata": {},
   "outputs": [],
   "source": [
    "model.wv.distance('diana','woman')"
   ]
  },
  {
   "cell_type": "code",
   "execution_count": null,
   "metadata": {},
   "outputs": [],
   "source": []
  }
 ],
 "metadata": {
  "kernelspec": {
   "display_name": "Python 3",
   "language": "python",
   "name": "python3"
  },
  "language_info": {
   "codemirror_mode": {
    "name": "ipython",
    "version": 3
   },
   "file_extension": ".py",
   "mimetype": "text/x-python",
   "name": "python",
   "nbconvert_exporter": "python",
   "pygments_lexer": "ipython3",
   "version": "3.7.5"
  }
 },
 "nbformat": 4,
 "nbformat_minor": 4
}
