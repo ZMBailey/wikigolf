{
 "cells": [
  {
   "cell_type": "code",
   "execution_count": 1,
   "metadata": {},
   "outputs": [],
   "source": [
    "import wikisearch\n",
    "import wikipedia\n",
    "import string\n",
    "import sys\n",
    "import numpy as np"
   ]
  },
  {
   "cell_type": "code",
   "execution_count": 2,
   "metadata": {},
   "outputs": [],
   "source": [
    "def check_links_subjects(model,current,subs,visited):\n",
    "    \"\"\"Uses the input model to check the similarity of the links in the current page\n",
    "    to the title of the target page.\"\"\"\n",
    "    #get links from current\n",
    "    links = current.links\n",
    "    success = []\n",
    "    errors = []\n",
    "    \n",
    "    #check links against model for relevence to target subject\n",
    "    for l in links:\n",
    "        for word in l.split(' '):\n",
    "            word = word.lower()\n",
    "            try:\n",
    "                for targetword in subs:\n",
    "                    dist = model.wv.distance(word,targetword.lower())\n",
    "                    if dist < 0.08 and l not in visited:\n",
    "                        success.append((l,dist))\n",
    "                        break\n",
    "            except KeyError:\n",
    "                errors.append(word)\n",
    "    #if related links found, use most related link, otherwise random\n",
    "    if len(success) > 0:\n",
    "        success.sort(key=lambda tup: tup[1])\n",
    "        return success[0][0]\n",
    "    else:\n",
    "        skiplist = ['Wikipedia', 'Category']\n",
    "        title = links[np.random.randint(0,len(links))]\n",
    "        while any(sub in title for sub in skiplist):\n",
    "            title = links[np.random.randint(0,len(links))]\n",
    "        return title"
   ]
  },
  {
   "cell_type": "code",
   "execution_count": 3,
   "metadata": {},
   "outputs": [],
   "source": [
    "def search_subject(start,subs):\n",
    "    start_page = wikipedia.page(start)\n",
    "    closest = (\"none\",sys.maxsize)\n",
    "    print(\"0 : \" + wikipedia.page(start).title)\n",
    "    # if 'path' in locals():\n",
    "    #     if target_page not in path:\n",
    "    path = [start_page]\n",
    "    visited = set()\n",
    "    visited.add(start)\n",
    "    title = start\n",
    "    exit = False\n",
    "    #i = 0\n",
    "\n",
    "    for i in range(20):\n",
    "    #while not exit:\n",
    "        try:\n",
    "\n",
    "            #get next page\n",
    "            current = wikipedia.page(title)\n",
    "            #test for target page\n",
    "            #if current not in path:\n",
    "            path.append(current)\n",
    "            #create model\n",
    "            model = wikisearch.make_model_new(path)\n",
    "            #get common words in current page\n",
    "            if current != start_page:\n",
    "                top_20 = wikisearch.get_50_most_common(current.content)[:20]\n",
    "\n",
    "                #test for similarity to subject\n",
    "                match = {sub:False for sub in subs}\n",
    "                for word,freq in top_20:\n",
    "                    try:\n",
    "                        for sub in subs:\n",
    "                            dist = model.wv.distance(word,sub)\n",
    "                            if dist < 0.05:\n",
    "                                match[sub] = True\n",
    "                        if False not in match.values():\n",
    "                            print(\"Match Found\")\n",
    "                            exit = True\n",
    "                    except KeyError:\n",
    "                        pass\n",
    "                if exit:\n",
    "                    break\n",
    "                search_success = True\n",
    "        except wikipedia.exceptions.DisambiguationError:\n",
    "            search_success = False\n",
    "        except wikipedia.exceptions.PageError:\n",
    "            search_success = False\n",
    "\n",
    "        #get next link\n",
    "        title = check_links_subjects(model,current,subs,visited)\n",
    "        visited.add(title)\n",
    "        if i % 10 == 0:\n",
    "            print(\".\",end=\"\")\n",
    "        #i += 1\n",
    "\n",
    "    print(\"Page Found!\") if exit else print(\"Not Found\")\n",
    "    print(str(i) + \": Matching page: \" + title)"
   ]
  },
  {
   "cell_type": "code",
   "execution_count": null,
   "metadata": {},
   "outputs": [
    {
     "name": "stdout",
     "output_type": "stream",
     "text": [
      "0 : Harley Quinn\n",
      "."
     ]
    }
   ],
   "source": [
    "search_subject('Harley Quinn',['woman','supervillain'])"
   ]
  },
  {
   "cell_type": "code",
   "execution_count": 4,
   "metadata": {},
   "outputs": [],
   "source": [
    "ww = wikipedia.page('Jurassic Park')\n",
    "model = wikisearch.make_model_new([ww])"
   ]
  },
  {
   "cell_type": "code",
   "execution_count": 3,
   "metadata": {},
   "outputs": [
    {
     "data": {
      "text/plain": [
       "1389"
      ]
     },
     "execution_count": 3,
     "metadata": {},
     "output_type": "execute_result"
    }
   ],
   "source": [
    "len(model.wv.vocab)"
   ]
  },
  {
   "cell_type": "code",
   "execution_count": 28,
   "metadata": {},
   "outputs": [],
   "source": [
    "text = ww.content.split(' ')"
   ]
  },
  {
   "cell_type": "code",
   "execution_count": 5,
   "metadata": {},
   "outputs": [
    {
     "data": {
      "text/plain": [
       "[('jurassic', 126),\n",
       " ('film', 104),\n",
       " ('world', 85),\n",
       " ('park', 77),\n",
       " ('series', 44),\n",
       " ('would', 40),\n",
       " ('released', 30),\n",
       " ('trevorrow', 30),\n",
       " ('dinosaurs', 28),\n",
       " ('also', 23),\n",
       " ('first', 21),\n",
       " ('based', 19),\n",
       " ('universal', 17),\n",
       " ('spielberg', 17),\n",
       " ('lego', 16),\n",
       " ('animated', 16),\n",
       " ('said', 16),\n",
       " ('novel', 15),\n",
       " ('june', 15),\n",
       " ('isla', 15),\n",
       " ('time', 14),\n",
       " ('written', 14),\n",
       " ('films', 13),\n",
       " ('theme', 12),\n",
       " ('release', 12),\n",
       " ('kingdom', 12),\n",
       " ('dinosaur', 12),\n",
       " ('escape', 12),\n",
       " ('crichton', 11),\n",
       " ('lost', 11),\n",
       " ('several', 11),\n",
       " ('game', 11),\n",
       " ('adaptation', 10),\n",
       " ('including', 10),\n",
       " ('fallen', 10),\n",
       " ('nublar', 10),\n",
       " ('island', 10),\n",
       " ('announced', 10),\n",
       " ('michael', 9),\n",
       " ('published', 9),\n",
       " ('sequel', 9),\n",
       " ('games', 9),\n",
       " ('characters', 9),\n",
       " ('studios', 9),\n",
       " ('franchise', 8),\n",
       " ('video', 8),\n",
       " ('highest', 8),\n",
       " ('grossing', 8),\n",
       " ('produced', 8),\n",
       " ('animation', 8)]"
      ]
     },
     "execution_count": 5,
     "metadata": {},
     "output_type": "execute_result"
    }
   ],
   "source": [
    "wikisearch.get_50_most_common(ww.content)"
   ]
  },
  {
   "cell_type": "code",
   "execution_count": 35,
   "metadata": {},
   "outputs": [
    {
     "data": {
      "text/plain": [
       "3"
      ]
     },
     "execution_count": 35,
     "metadata": {},
     "output_type": "execute_result"
    }
   ],
   "source": [
    "test = {'a':1,'b':2,'c':3}\n",
    "len(test)"
   ]
  },
  {
   "cell_type": "code",
   "execution_count": 59,
   "metadata": {},
   "outputs": [
    {
     "data": {
      "text/plain": [
       "0.0018458962440490723"
      ]
     },
     "execution_count": 59,
     "metadata": {},
     "output_type": "execute_result"
    }
   ],
   "source": [
    "model.wv.distance('jurassic','dinosaur')"
   ]
  },
  {
   "cell_type": "code",
   "execution_count": 41,
   "metadata": {},
   "outputs": [
    {
     "data": {
      "text/plain": [
       "\"{'a': 1, 'b': 2, 'c': 3}\""
      ]
     },
     "execution_count": 41,
     "metadata": {},
     "output_type": "execute_result"
    }
   ],
   "source": [
    "test.__repr__()"
   ]
  },
  {
   "cell_type": "code",
   "execution_count": null,
   "metadata": {},
   "outputs": [],
   "source": [
    "\"{'a': 1, 'b': 2, 'c': 3}\""
   ]
  }
 ],
 "metadata": {
  "kernelspec": {
   "display_name": "Python 3",
   "language": "python",
   "name": "python3"
  },
  "language_info": {
   "codemirror_mode": {
    "name": "ipython",
    "version": 3
   },
   "file_extension": ".py",
   "mimetype": "text/x-python",
   "name": "python",
   "nbconvert_exporter": "python",
   "pygments_lexer": "ipython3",
   "version": "3.7.5"
  }
 },
 "nbformat": 4,
 "nbformat_minor": 4
}
