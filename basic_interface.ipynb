{
 "cells": [
  {
   "cell_type": "code",
   "execution_count": 53,
   "metadata": {},
   "outputs": [],
   "source": [
    "import numpy as np\n",
    "import requests\n",
    "import wikipedia"
   ]
  },
  {
   "cell_type": "code",
   "execution_count": 16,
   "metadata": {},
   "outputs": [],
   "source": [
    "S = requests.Session()\n",
    "\n",
    "URL = \"https://en.wikipedia.org/w/api.php\"\n",
    "\n",
    "TITLE = 'Jurassic Park (novel)'\n",
    "\n",
    "PARAMS = {\n",
    "    'action': \"query\",\n",
    "    'titles': TITLE,\n",
    "    'prop': \"links\",\n",
    "    'pllimit': \"max\",\n",
    "    'format': \"json\",\n",
    "}\n",
    "\n",
    "R = S.get(url=URL, params=PARAMS)\n",
    "data = R.json()\n",
    "#print(data['query']['title'])"
   ]
  },
  {
   "cell_type": "code",
   "execution_count": 29,
   "metadata": {},
   "outputs": [
    {
     "data": {
      "text/plain": [
       "[{'ns': 0, 'title': '2000 AD (comics)'},\n",
       " {'ns': 0, 'title': 'A Case of Need'},\n",
       " {'ns': 0, 'title': 'Airframe (novel)'},\n",
       " {'ns': 0, 'title': 'Alfred A. Knopf'},\n",
       " {'ns': 0, 'title': 'Amazon (video game)'},\n",
       " {'ns': 0, 'title': 'Amber'},\n",
       " {'ns': 0, 'title': 'Amphibian'},\n",
       " {'ns': 0, 'title': 'Amusement park'},\n",
       " {'ns': 0, 'title': 'Ancient DNA'},\n",
       " {'ns': 0, 'title': 'Andrew Ferguson'},\n",
       " {'ns': 0, 'title': 'Auxotrophy'},\n",
       " {'ns': 0, 'title': 'BILBY Award'},\n",
       " {'ns': 0, 'title': 'Backdoor (computing)'},\n",
       " {'ns': 0, 'title': 'Barnes & Noble'},\n",
       " {'ns': 0, 'title': 'Battle at Big Rock'},\n",
       " {'ns': 0, 'title': 'Beyond Westworld'},\n",
       " {'ns': 0, 'title': 'Binary (novel)'},\n",
       " {'ns': 0, 'title': 'Biotechnology'},\n",
       " {'ns': 0, 'title': 'Bird'},\n",
       " {'ns': 0, 'title': 'Canopy Flyer'}]"
      ]
     },
     "execution_count": 29,
     "metadata": {},
     "output_type": "execute_result"
    }
   ],
   "source": [
    "data['query']['pages'][list(data['query']['pages'])[0]]['links'][:20]"
   ]
  },
  {
   "cell_type": "code",
   "execution_count": 30,
   "metadata": {},
   "outputs": [],
   "source": [
    "links = data['query']['pages'][list(data['query']['pages'])[0]]['links']"
   ]
  },
  {
   "cell_type": "code",
   "execution_count": 38,
   "metadata": {},
   "outputs": [
    {
     "data": {
      "text/plain": [
       "{'ns': 0, 'title': 'DNA'}"
      ]
     },
     "execution_count": 38,
     "metadata": {},
     "output_type": "execute_result"
    }
   ],
   "source": [
    "n = np.random.randint(0,len(links))\n",
    "links[n]"
   ]
  },
  {
   "cell_type": "code",
   "execution_count": 46,
   "metadata": {},
   "outputs": [
    {
     "name": "stdout",
     "output_type": "stream",
     "text": [
      "Jurassic World: Original Motion Picture Soundtrack\n",
      "Jurassic World: Original Motion Picture Soundtrack\n"
     ]
    }
   ],
   "source": [
    "n = np.random.randint(0,len(links))\n",
    "NEXT = links[n]['title']\n",
    "\n",
    "PARAMS = {\n",
    "    'action': \"query\",\n",
    "    'titles': NEXT,\n",
    "    'prop': \"links\",\n",
    "    'pllimit': \"max\",\n",
    "    'format': \"json\",\n",
    "}\n",
    "\n",
    "R = S.get(url=URL, params=PARAMS)\n",
    "next_data = R.json()\n",
    "print(links[n]['title'])\n",
    "print(next_data['query']['pages'][list(next_data['query']['pages'])[0]]['title'])"
   ]
  },
  {
   "cell_type": "code",
   "execution_count": 48,
   "metadata": {},
   "outputs": [],
   "source": [
    "def get_links(TITLE):\n",
    "    PARAMS = {\n",
    "        'action': \"query\",\n",
    "        'titles': TITLE,\n",
    "        'prop': \"links\",\n",
    "        'pllimit': \"max\",\n",
    "        'format': \"json\",\n",
    "    }\n",
    "\n",
    "    R = S.get(url=URL, params=PARAMS)\n",
    "    return R.json()"
   ]
  },
  {
   "cell_type": "code",
   "execution_count": 52,
   "metadata": {},
   "outputs": [
    {
     "name": "stdin",
     "output_type": "stream",
     "text": [
      " Jurassic Park (novel)\n",
      " 5\n"
     ]
    },
    {
     "name": "stdout",
     "output_type": "stream",
     "text": [
      "0 : Jurassic Park (novel)\n",
      "1 : Dragon curve\n",
      "2 : Blancmange curve\n",
      "3 : Archimedes\n",
      "4 : Menander\n",
      "5 : Akrai\n"
     ]
    }
   ],
   "source": [
    "start = input()\n",
    "hops = input()\n",
    "\n",
    "print(\"0 : \" + start)\n",
    "title = start\n",
    "for i in range(int(hops)):\n",
    "    response = get_links(title)\n",
    "    links = response['query']['pages'][list(response['query']['pages'])[0]]['links']\n",
    "    n = np.random.randint(0,len(links))\n",
    "    title = links[n]['title']\n",
    "    print(str(i+1) + \" : \" + title)"
   ]
  },
  {
   "cell_type": "code",
   "execution_count": 54,
   "metadata": {},
   "outputs": [],
   "source": [
    "jp = wikipedia.page('Jurassic Park (novel)')"
   ]
  },
  {
   "cell_type": "code",
   "execution_count": 57,
   "metadata": {},
   "outputs": [
    {
     "data": {
      "text/plain": [
       "'Jurassic Park is a 1990 science fiction novel written by Michael Crichton. A cautionary tale about genetic engineering, it presents the collapse of an amusement park showcasing genetically recreated dinosaurs to illustrate the mathematical concept of chaos theory and its real world implications. A sequel titled The Lost World, also written by Crichton, was published in 1995. In 1997, both novels were re-published as a single book titled Michael Crichton\\'s Jurassic World, unrelated to the film of the same name.In 1993, Steven Spielberg adapted the book into the blockbuster film Jurassic Park. The book\\'s sequel, The Lost World, was also adapted by Spielberg into a film in 1997. A third film, directed by Joe Johnston and released in 2001, drew several elements, themes, and scenes from both books that were ultimately not utilized in either of the previous films, such as the aviary and boat scenes.\\nThe novel began as a screenplay Crichton wrote in 1983, about a graduate student who recreates a dinosaur. Eventually, given his reasoning that genetic research is expensive and \"there is no pressing need to create a dinosaur\", Crichton concluded that it would emerge from a \"desire to entertain\", leading to a wildlife park of extinct animals. Originally, the story was told from the point of view of a child, but Crichton changed it as everyone who read the draft felt it would be better if told by an adult.\\n\\n\\n== Plot summary ==\\nIn 1989, a series of strange animal attacks occur in Costa Rica and on the nearby fictional island of Isla Nublar, the story\\'s main setting, one of which is a worker severely injured on a construction project on Isla Nublar, whose employers refuse to disclose any information about. One of the species is eventually identified as a Procompsognathus. Paleontologist Alan Grant and his paleobotanist graduate student, Ellie Sattler, are contacted to confirm the identification, but are abruptly whisked away by billionaire John Hammond — founder and chief executive officer of International Genetic Technologies, or InGen — for a weekend visit to a \"biological preserve\" he has established on Isla Nublar.\\nUpon arrival, the preserve is revealed to be Jurassic Park, a theme park showcasing cloned dinosaurs. The animals have been recreated using damaged dinosaur DNA found in blood inside of gnats, ticks, and mosquitoes fossilized and preserved in amber. Gaps in the genetic code have been filled in with \"compatible\" reptilian, avian or amphibian DNA. To control the population, all specimens on the island are lysine-deficient and X-Ray sterilized females. Hammond proudly touts InGen\\'s advances in genetic engineering and shows his guests through the island\\'s vast array of automated systems.\\n\\nRecent incidents in the park have spooked Hammond\\'s investors. To placate them, Hammond uses Grant and Sattler as fresh consultants. They stand in counterbalance to a famous mathematician and chaos theorist, Ian Malcolm, and a lawyer representing the investors, Donald Gennaro, who are pessimistic about the park\\'s prospects. Malcolm, having been consulted before the park\\'s creation, is especially emphatic in his prediction that the park will collapse, as it is an unsustainable simple structure bluntly forced upon a complex system with too many unpredictable variables, such as an uncontrollable population, attempting to contain animals with no real equivalent to extant animals with no predictable behavior patterns, and an untested computer system that continually fails to monitor and feed the population.\\nCountering Malcolm\\'s dire predictions with youthful energy, Hammond groups the consultants with his grandchildren, Tim and Alexis \"Lex\" Murphy. While touring the park, Grant finds a Velociraptor eggshell, seemingly proving Malcolm\\'s earlier assertion that the dinosaurs have somehow been breeding against the geneticists\\' design.\\nMeanwhile, the disgruntled chief programmer of Jurassic Park\\'s controlling software, Dennis Nedry, attempts corporate espionage for Lewis Dodgson, a geneticist and agent of InGen\\'s archrival, Biosyn. By activating a backdoor he wrote into the park\\'s computer system, Nedry shuts down its security systems and steals frozen embryos for each of the park\\'s fifteen species in an attempt to smuggle them to a contact waiting at an auxiliary dock at the eastern end of the park. However, during a sudden tropical storm, he exits his vehicle to get his bearings and is killed by a Dilophosaurus. Without Nedry to reactivate the park\\'s security, the electrified fences remain off and all the dinosaurs escape. The park\\'s adult Tyrannosaurus attacks the guests on tour, with a juvenile T. rex attacking and killing Ed Regis, the park\\'s public relations manager. In the aftermath, Grant and the children become lost in the park. Malcolm is gravely injured during the incident, but is found by Gennaro and park game warden Robert Muldoon, spending the remainder of the novel slowly dying as – between lucid lectures and morphine-induced rants – he tries to help the others understand their predicament and survive.\\nThe park\\'s upper management — engineer and park supervisor John Arnold, biotechnologist Henry Wu, Muldoon, and Hammond — struggle to return power to the park, while the veterinarian, Dr. Harding, takes care of Malcolm. They manage to temporarily get the park largely back in order, restoring the computer system by shutting down and restarting the power and resetting the system. When trying to restore the park to working order, they fail to notice that the system has been running on auxiliary power since the restart; this power soon runs out, shutting the park down a second time. The park\\'s intelligent and aggressive raptors escape their enclosure, and kill Wu and Arnold. Meanwhile, Grant and the children slowly make their way back to the Visitor Center by rafting down the jungle river, carrying news that several young raptors were on board the island\\'s supply ship when it departed for the mainland. After the three return to the visitor\\'s center, they are contacted by the others, who instruct Grant to switch on the park\\'s generators. Tim is then able to reactivate the park\\'s main power, allowing Gennaro to force the supply ship to return.\\nGennaro orders that the island be destroyed, but Grant rejects his authority, claiming that they must first inspect the whole situation. Grant, Sattler, Muldoon, and Gennaro set out into the park to find the wild raptor nests and compare hatched eggs with the island\\'s revised population tally, and return unscathed. Meanwhile, Hammond, taking a walk and contemplating building a new park improving on his previous mistakes, hears a T. rex roar and, startled, falls down a hill, where he is eaten by a pack of Procompsognathus.\\nWith regard to the dinosaurs\\' breeding, it eventually transpires that using frog DNA to fill gaps in the dinosaurs\\' genetic code enabled a measure of dichogamy, in which some of the female animals changed into males in response to the same-sex environment.\\nThe survivors are rescued by the fictitious Costa Rican Air Force, where Grant reveals that the dinosaurs have been killing people. The Costa Rican Air Force then declare the island hazardous and unsafe, and proceed to raze the island with napalm. Survivors of the incident are indefinitely detained by the United States and Costa Rican governments at a hotel. Weeks later, Grant is visited by Dr. Martin Guitierrez, an American doctor who lives in Costa Rica. Guitierrez informs Grant that an unknown pack of animals has been migrating through the Costa Rican jungle, eating lysine-rich crops and chickens. He also informs Grant that none of them, with the possible exception of Tim and Lex, are going to leave any time soon.\\n\\n\\n== Themes ==\\n \\nJurassic Park critiques the dystopian potentialities of science. There are Christian undertones in the skepticism of Ian Malcolm, though Christian terminology and imagery is never used. Malcolm is the conscience that reminds John Hammond of the sacrilegious path that has been taken. The final condition of the park is epitomized by the word \\'hell\\', which highlights the nature of Hammond\\'s sacrilegious attempt.Michael Crichton\\'s novel is another version of Mary Shelley\\'s Frankenstein tale where humanity creates without knowing. Henry Wu is unable to name the things that he creates, which alludes to Victor Frankenstein not knowing what to call his flawed imitation of God\\'s creative powers. The immorality of these actions lead to human destruction, echoing Frankenstein.Similar to how his other novels represent science and technology as both hazardous and life-changing, Michael Crichton\\'s novel highlights the hypocrisy and superiority complex of the scientific community that inspired John Hammond to recreate dinosaurs and treat them as commodities, which only lead to catastrophe. The similar fears of atomic power from the Cold War are adapted by Michael Crichton onto the anxieties evoked by genetic manipulation.\\n\\n\\n== Reception ==\\nThe book became a bestseller and Michael Crichton\\'s signature novel. It also received largely favorable reviews by critics. In a review for The New York Times, Christopher Lehmann-Haupt described it as \"a superior specimen of the [Frankenstein] myth\" and \"easily the best of Mr. Crichton\\'s novels to date.\" Writing for Entertainment Weekly, Gene Lyons held that the book was \"hard to beat for sheer intellectual entertainment\" largely because it was \"[f]illed with diverting, up-to-date information in easily digestible form.\" Both Lyons\\' Entertainment Weekly piece and Andrew Ferguson\\'s review in the Los Angeles Times, however, criticized Crichton\\'s characterization as heavy-handed and his characters as cliched. Ferguson further complained about Ian Malcolm\\'s \"dime-store philosophizing\" and predicted that the film adaptation of the book would be \"undoubtedly trashy.\" He conceded that the book\\'s \"only real virtue\" was \"its genuinely interesting discussions of dinosaurs, DNA research, paleontology and chaos theory.\"The novel became even more famous following the release of the 1993 film adaptation, which has grossed more than US$1 billion and spawned several sequels.In 1996 it was awarded the Secondary BILBY Award.\\n\\n\\n== See also ==\\n\\nThe Cursed Earth, a Judge Dredd story line by Pat Mills in 2000 AD from 1978 that introduces the idea of a dinosaur theme park, with dinosaurs cloned from DNA\\nCarnosaur, a 1984 novel with similar themes\\nWestworld, Crichton\\'s earlier 1973 film also about a malfunctioning theme park\\n\\n\\n== References ==\\n\\n\\n== Further reading ==\\nDeSalle, Rob & Lindley, David (1997). The Science of Jurassic Park and The Lost World. Or How to Build a Dinosaur. New York: BasicBooks. ISBN 0-465-07379-4.\\n\\n\\n== External links ==\\nIsla Nublar novel map\\nOfficial website\\nJurassic Park title listing at the Internet Speculative Fiction Database\\nJurassic Park at the official Michael Crichton website'"
      ]
     },
     "execution_count": 57,
     "metadata": {},
     "output_type": "execute_result"
    }
   ],
   "source": [
    "jp.content"
   ]
  },
  {
   "cell_type": "code",
   "execution_count": null,
   "metadata": {},
   "outputs": [],
   "source": []
  }
 ],
 "metadata": {
  "kernelspec": {
   "display_name": "Python 3",
   "language": "python",
   "name": "python3"
  },
  "language_info": {
   "codemirror_mode": {
    "name": "ipython",
    "version": 3
   },
   "file_extension": ".py",
   "mimetype": "text/x-python",
   "name": "python",
   "nbconvert_exporter": "python",
   "pygments_lexer": "ipython3",
   "version": "3.7.4"
  }
 },
 "nbformat": 4,
 "nbformat_minor": 4
}
