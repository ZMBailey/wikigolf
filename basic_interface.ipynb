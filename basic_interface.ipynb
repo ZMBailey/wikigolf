{
 "cells": [
  {
   "cell_type": "code",
   "execution_count": 82,
   "metadata": {},
   "outputs": [],
   "source": [
    "import numpy as np\n",
    "import requests\n",
    "import wikipedia\n",
    "import gensim"
   ]
  },
  {
   "cell_type": "code",
   "execution_count": 16,
   "metadata": {},
   "outputs": [],
   "source": [
    "S = requests.Session()\n",
    "\n",
    "URL = \"https://en.wikipedia.org/w/api.php\"\n",
    "\n",
    "TITLE = 'Jurassic Park (novel)'\n",
    "\n",
    "PARAMS = {\n",
    "    'action': \"query\",\n",
    "    'titles': TITLE,\n",
    "    'prop': \"links\",\n",
    "    'pllimit': \"max\",\n",
    "    'format': \"json\",\n",
    "}\n",
    "\n",
    "R = S.get(url=URL, params=PARAMS)\n",
    "data = R.json()\n",
    "#print(data['query']['title'])"
   ]
  },
  {
   "cell_type": "code",
   "execution_count": 29,
   "metadata": {},
   "outputs": [
    {
     "data": {
      "text/plain": [
       "[{'ns': 0, 'title': '2000 AD (comics)'},\n",
       " {'ns': 0, 'title': 'A Case of Need'},\n",
       " {'ns': 0, 'title': 'Airframe (novel)'},\n",
       " {'ns': 0, 'title': 'Alfred A. Knopf'},\n",
       " {'ns': 0, 'title': 'Amazon (video game)'},\n",
       " {'ns': 0, 'title': 'Amber'},\n",
       " {'ns': 0, 'title': 'Amphibian'},\n",
       " {'ns': 0, 'title': 'Amusement park'},\n",
       " {'ns': 0, 'title': 'Ancient DNA'},\n",
       " {'ns': 0, 'title': 'Andrew Ferguson'},\n",
       " {'ns': 0, 'title': 'Auxotrophy'},\n",
       " {'ns': 0, 'title': 'BILBY Award'},\n",
       " {'ns': 0, 'title': 'Backdoor (computing)'},\n",
       " {'ns': 0, 'title': 'Barnes & Noble'},\n",
       " {'ns': 0, 'title': 'Battle at Big Rock'},\n",
       " {'ns': 0, 'title': 'Beyond Westworld'},\n",
       " {'ns': 0, 'title': 'Binary (novel)'},\n",
       " {'ns': 0, 'title': 'Biotechnology'},\n",
       " {'ns': 0, 'title': 'Bird'},\n",
       " {'ns': 0, 'title': 'Canopy Flyer'}]"
      ]
     },
     "execution_count": 29,
     "metadata": {},
     "output_type": "execute_result"
    }
   ],
   "source": [
    "data['query']['pages'][list(data['query']['pages'])[0]]['links'][:20]"
   ]
  },
  {
   "cell_type": "code",
   "execution_count": 30,
   "metadata": {},
   "outputs": [],
   "source": [
    "links = data['query']['pages'][list(data['query']['pages'])[0]]['links']"
   ]
  },
  {
   "cell_type": "code",
   "execution_count": 38,
   "metadata": {},
   "outputs": [
    {
     "data": {
      "text/plain": [
       "{'ns': 0, 'title': 'DNA'}"
      ]
     },
     "execution_count": 38,
     "metadata": {},
     "output_type": "execute_result"
    }
   ],
   "source": [
    "n = np.random.randint(0,len(links))\n",
    "links[n]"
   ]
  },
  {
   "cell_type": "code",
   "execution_count": 46,
   "metadata": {},
   "outputs": [
    {
     "name": "stdout",
     "output_type": "stream",
     "text": [
      "Jurassic World: Original Motion Picture Soundtrack\n",
      "Jurassic World: Original Motion Picture Soundtrack\n"
     ]
    }
   ],
   "source": [
    "n = np.random.randint(0,len(links))\n",
    "NEXT = links[n]['title']\n",
    "\n",
    "PARAMS = {\n",
    "    'action': \"query\",\n",
    "    'titles': NEXT,\n",
    "    'prop': \"links\",\n",
    "    'pllimit': \"max\",\n",
    "    'format': \"json\",\n",
    "}\n",
    "\n",
    "R = S.get(url=URL, params=PARAMS)\n",
    "next_data = R.json()\n",
    "print(links[n]['title'])\n",
    "print(next_data['query']['pages'][list(next_data['query']['pages'])[0]]['title'])"
   ]
  },
  {
   "cell_type": "code",
   "execution_count": 48,
   "metadata": {},
   "outputs": [],
   "source": [
    "def get_links(TITLE):\n",
    "    PARAMS = {\n",
    "        'action': \"query\",\n",
    "        'titles': TITLE,\n",
    "        'prop': \"links\",\n",
    "        'pllimit': \"max\",\n",
    "        'format': \"json\",\n",
    "    }\n",
    "\n",
    "    R = S.get(url=URL, params=PARAMS)\n",
    "    return R.json()"
   ]
  },
  {
   "cell_type": "code",
   "execution_count": 52,
   "metadata": {},
   "outputs": [
    {
     "name": "stdin",
     "output_type": "stream",
     "text": [
      " Jurassic Park (novel)\n",
      " 5\n"
     ]
    },
    {
     "name": "stdout",
     "output_type": "stream",
     "text": [
      "0 : Jurassic Park (novel)\n",
      "1 : Dragon curve\n",
      "2 : Blancmange curve\n",
      "3 : Archimedes\n",
      "4 : Menander\n",
      "5 : Akrai\n"
     ]
    }
   ],
   "source": [
    "start = input()\n",
    "hops = input()\n",
    "\n",
    "print(\"0 : \" + start)\n",
    "title = start\n",
    "for i in range(int(hops)):\n",
    "    response = get_links(title)\n",
    "    links = response['query']['pages'][list(response['query']['pages'])[0]]['links']\n",
    "    n = np.random.randint(0,len(links))\n",
    "    title = links[n]['title']\n",
    "    print(str(i+1) + \" : \" + title)"
   ]
  },
  {
   "cell_type": "code",
   "execution_count": 54,
   "metadata": {},
   "outputs": [],
   "source": [
    "jp = wikipedia.page('Jurassic Park (novel)')"
   ]
  },
  {
   "cell_type": "code",
   "execution_count": 63,
   "metadata": {},
   "outputs": [],
   "source": [
    "import nltk\n",
    "from nltk.corpus import stopwords\n",
    "import nltk.collocations\n",
    "from nltk import FreqDist, word_tokenize\n",
    "import string\n",
    "import re"
   ]
  },
  {
   "cell_type": "code",
   "execution_count": 70,
   "metadata": {},
   "outputs": [],
   "source": [
    "def get_50_most_common(page):\n",
    "    pattern = \"([a-zA-Z]+(?:'[a-z]+)?)\"\n",
    "    tokens_raw = nltk.regexp_tokenize(page.content, pattern)\n",
    "    tokens = [word.lower() for word in tokens_raw]\n",
    "\n",
    "    stopwords_list = stopwords.words('english')\n",
    "    stopwords_list += list(string.punctuation)\n",
    "    stopwords_list += ['0', '1', '2', '3', '4', '5', '6', '7', '8', '9']\n",
    "\n",
    "    words_stopped = [word for word in tokens if word not in stopwords_list]\n",
    "\n",
    "    freqdist = FreqDist(words_stopped)\n",
    "    return freqdist.most_common(50)"
   ]
  },
  {
   "cell_type": "markdown",
   "metadata": {},
   "source": [
    "Determine threshold for topic"
   ]
  },
  {
   "cell_type": "code",
   "execution_count": 102,
   "metadata": {},
   "outputs": [
    {
     "data": {
      "text/plain": [
       "[('gotham', 39),\n",
       " ('city', 31),\n",
       " ('batman', 27),\n",
       " ('land', 22),\n",
       " (\"man's\", 20),\n",
       " ('gordon', 17),\n",
       " ('story', 11),\n",
       " ('two', 11),\n",
       " ('comics', 10),\n",
       " ('joker', 9)]"
      ]
     },
     "execution_count": 102,
     "metadata": {},
     "output_type": "execute_result"
    }
   ],
   "source": [
    "get_50_most_common(wikipedia.page(\"Batman: No Man's Land\"))[:10]"
   ]
  },
  {
   "cell_type": "code",
   "execution_count": 76,
   "metadata": {},
   "outputs": [
    {
     "data": {
      "text/plain": [
       "[('batman', 179),\n",
       " ('catwoman', 155),\n",
       " ('selina', 142),\n",
       " ('bruce', 50),\n",
       " ('two', 32),\n",
       " ('vol', 30),\n",
       " ('series', 29),\n",
       " ('story', 29),\n",
       " ('kyle', 28),\n",
       " ('one', 28)]"
      ]
     },
     "execution_count": 76,
     "metadata": {},
     "output_type": "execute_result"
    }
   ],
   "source": [
    "get_50_most_common(wikipedia.page('Catwoman'))[:10]"
   ]
  },
  {
   "cell_type": "code",
   "execution_count": 79,
   "metadata": {},
   "outputs": [
    {
     "data": {
      "text/plain": [
       "[('bread', 100),\n",
       " ('dough', 39),\n",
       " ('flour', 30),\n",
       " ('yeast', 25),\n",
       " ('leavening', 20),\n",
       " ('water', 18),\n",
       " ('breads', 18),\n",
       " ('used', 17),\n",
       " ('gluten', 14),\n",
       " ('wheat', 13),\n",
       " ('baking', 12),\n",
       " ('time', 12),\n",
       " ('made', 11),\n",
       " ('may', 11),\n",
       " ('protein', 11),\n",
       " ('process', 10),\n",
       " ('sourdough', 9),\n",
       " ('use', 9),\n",
       " ('also', 9),\n",
       " ('baked', 9)]"
      ]
     },
     "execution_count": 79,
     "metadata": {},
     "output_type": "execute_result"
    }
   ],
   "source": [
    "get_50_most_common(wikipedia.page('Bread'))[:20]"
   ]
  },
  {
   "cell_type": "code",
   "execution_count": 80,
   "metadata": {},
   "outputs": [
    {
     "data": {
      "text/plain": [
       "[('cake', 75),\n",
       " ('cakes', 60),\n",
       " ('flour', 19),\n",
       " ('made', 14),\n",
       " ('sugar', 13),\n",
       " ('butter', 13),\n",
       " ('baking', 13),\n",
       " ('bread', 12),\n",
       " ('sponge', 12),\n",
       " ('baked', 11)]"
      ]
     },
     "execution_count": 80,
     "metadata": {},
     "output_type": "execute_result"
    }
   ],
   "source": [
    "get_50_most_common(wikipedia.page('Cake'))[:10]"
   ]
  },
  {
   "cell_type": "code",
   "execution_count": 94,
   "metadata": {},
   "outputs": [],
   "source": [
    "def normalized_top_50(page):\n",
    "    pattern = \"([a-zA-Z]+(?:'[a-z]+)?)\"\n",
    "    tokens_raw = nltk.regexp_tokenize(page.content, pattern)\n",
    "    tokens = [word.lower() for word in tokens_raw]\n",
    "\n",
    "    stopwords_list = stopwords.words('english')\n",
    "    stopwords_list += list(string.punctuation)\n",
    "    stopwords_list += ['0', '1', '2', '3', '4', '5', '6', '7', '8', '9']\n",
    "\n",
    "    words_stopped = [word for word in tokens if word not in stopwords_list]\n",
    "\n",
    "    freqdist = FreqDist(words_stopped)\n",
    "    top_50 = freqdist.most_common(50)\n",
    "    \n",
    "    total = sum(freqdist.values())\n",
    "    \n",
    "    normalized = []\n",
    "    for word in top_50:\n",
    "        normalized_frequency = word[1] / total\n",
    "        normalized.append((word[0],\"{:.4}\".format(normalized_frequency)))\n",
    "    return normalized"
   ]
  },
  {
   "cell_type": "code",
   "execution_count": 101,
   "metadata": {},
   "outputs": [
    {
     "data": {
      "text/plain": [
       "[('gotham', '0.028'),\n",
       " ('city', '0.02225'),\n",
       " ('batman', '0.01938'),\n",
       " ('land', '0.01579'),\n",
       " (\"man's\", '0.01436'),\n",
       " ('gordon', '0.0122'),\n",
       " ('story', '0.007897'),\n",
       " ('two', '0.007897'),\n",
       " ('comics', '0.007179'),\n",
       " ('joker', '0.006461'),\n",
       " ('storyline', '0.005743'),\n",
       " ('gang', '0.005743'),\n",
       " ('police', '0.005743'),\n",
       " ('also', '0.005025'),\n",
       " ('territory', '0.005025'),\n",
       " ('dc', '0.004307'),\n",
       " ('issues', '0.004307'),\n",
       " ('new', '0.004307'),\n",
       " ('face', '0.004307'),\n",
       " ('luthor', '0.004307')]"
      ]
     },
     "execution_count": 101,
     "metadata": {},
     "output_type": "execute_result"
    }
   ],
   "source": [
    "normalized_top_50(wikipedia.page(\"Batman: No Man's Land\"))[:20]"
   ]
  },
  {
   "cell_type": "code",
   "execution_count": 103,
   "metadata": {},
   "outputs": [
    {
     "name": "stdin",
     "output_type": "stream",
     "text": [
      " Superman\n",
      " Batman\n"
     ]
    },
    {
     "name": "stdout",
     "output_type": "stream",
     "text": [
      "0 : Superman\n",
      "1 : Dick Grayson\n",
      "2 : Birds of Prey (TV series)\n",
      "3 : Swamp Thing (1990 TV series)\n",
      "4 : Un-Men\n",
      "5 : The Return of Swamp Thing\n",
      "6 : Victim of Desire\n",
      "7 : Project Viper\n",
      "8 : Camel Spiders (film)\n",
      "9 : The Bare Wench Project 2: Scared Topless\n",
      "10 : The Bare Wench Project\n",
      "11 : Scared Topless\n",
      "12 : The Witches of Breastwick\n",
      "13 : Gargoyle: Wings of Darkness\n",
      "14 : Final Voyage\n",
      "15 : Spain\n",
      "16 : B28 nuclear bomb\n",
      "17 : W29 (nuclear warhead)\n",
      "18 : B77 nuclear bomb\n",
      "19 : Mark 21 nuclear bomb\n",
      "20 : W56\n",
      "21 : Operation Dominic\n",
      "22 : Operation Plowshare\n",
      "23 : Category:Redirects from moves\n",
      "24 : Wikipedia:Protection policy\n",
      "25 : Wikipedia:PREFER\n",
      "26 : Wikipedia:Mainspace\n",
      "27 : Wikipedia:Protection policy\n",
      "28 : Wikipedia:STABLE\n",
      "29 : Wikipedia:Stable version\n",
      "30 : Wikipedia:Stabilizing featured articles\n",
      "31 : Wikipedia:GA\n",
      "32 : Template:R from template shortcut\n",
      "33 : Template:R wife\n",
      "34 : Wikipedia:Talk namespace\n",
      "35 : Wikipedia:Redirect\n",
      "36 : Wikipedia:Database reports/Page count by namespace\n",
      "37 : User talk:Community Tech bot\n",
      "38 : User:Wgolf\n",
      "39 : Category:User en-N\n",
      "40 : Category:User en-2\n",
      "41 : English language\n",
      "42 : Common Brittonic\n",
      "43 : Auregnais\n",
      "44 : Shelta\n",
      "45 : Tinker\n",
      "46 : St Mary Cray\n",
      "47 : List of United Kingdom Parliament constituencies\n",
      "48 : United Kingdom Parliament constituencies\n",
      "49 : Bridgend (UK Parliament constituency)\n",
      "50 : Cardiff West (UK Parliament constituency)\n",
      "51 : Newport East (UK Parliament constituency)\n",
      "52 : Rhondda (UK Parliament constituency)\n",
      "53 : Tonypandy\n",
      "54 : Glynfach\n",
      "55 : Ysgol Gyfun Garth Olwg\n",
      "56 : Maria Pride\n",
      "57 : Wales\n",
      "58 : Calan Awst\n",
      "59 : Lammas\n",
      "60 : Lughnasadh\n",
      "61 : Carman\n",
      "62 : Lebor Gabála Érenn\n",
      "63 : Tower of Hercules\n",
      "64 : Alcalá de Henares\n",
      "65 : Meco, Spain\n",
      "66 : Collado Villalba\n",
      "67 : Torrelodones\n",
      "68 : Alpedrete\n",
      "69 : Camarma de Esteruelas\n",
      "70 : Campo Real\n",
      "71 : Cubas de la Sagra\n",
      "72 : El Vellón\n",
      "73 : Villamanrique de Tajo\n",
      "74 : UTC+2\n",
      "75 : UTC+02:00\n",
      "76 : Berlin\n",
      "77 : Federal Ministry of Health (Germany)\n",
      "78 : Category:Wikipedia articles with NKC identifiers\n",
      "79 : Category:Wikipedia articles with authority control information\n",
      "80 : Wikipedia:Authority control\n",
      "81 : John Wilbanks\n",
      "82 : FreeCulture.org\n",
      "83 : Students for Free Culture\n",
      "84 : Free software\n",
      "85 : Pre-installed software\n",
      "86 : Freely redistributable software\n",
      "87 : Sneakernet\n",
      "88 : USB dead drop\n",
      "89 : CCTV camera\n",
      "90 : Closed-circuit television camera\n",
      "91 : Personal computer\n",
      "92 : Personal Computer Museum\n",
      "93 : Byte Magazine\n",
      "94 : Byte (magazine)\n",
      "95 : Nikkei Business Publications\n",
      "96 : Business Week\n",
      "97 : Bloomberg Businessweek\n",
      "98 : Business school\n",
      "99 : Bryn Mawr College\n",
      "100 : SNAC\n",
      "100 Finish : SNAC\n"
     ]
    }
   ],
   "source": [
    "start = input()\n",
    "target = input()\n",
    "\n",
    "print(\"0 : \" + start)\n",
    "title = start\n",
    "exit = False\n",
    "for i in range(100):\n",
    "    top_20 = get_50_most_common(wikipedia.page(title))[:20]\n",
    "    for word in top_20:\n",
    "        if word[0] == target:\n",
    "            exit = True\n",
    "    if exit:\n",
    "        break\n",
    "    response = get_links(title)\n",
    "    links = response['query']['pages'][list(response['query']['pages'])[0]]['links']\n",
    "    n = np.random.randint(0,len(links))\n",
    "    title = links[n]['title']\n",
    "    print(str(i+1) + \" : \" + title)\n",
    "print(str(i+1) + \" Finish : \" + title)"
   ]
  },
  {
   "cell_type": "markdown",
   "metadata": {},
   "source": [
    "### Analyzing with Word2Vec"
   ]
  },
  {
   "cell_type": "code",
   "execution_count": 86,
   "metadata": {},
   "outputs": [],
   "source": [
    "page = wikipedia.page('Two-Face')\n",
    "page_text = page.content.split(\".\")\n",
    "\n",
    "text = []\n",
    "\n",
    "for clue in page_text:\n",
    "    sentence = clue.translate(str.maketrans('','',string.punctuation)).split(' ')\n",
    "    new_sent = []\n",
    "    for word in sentence:\n",
    "        new_sent.append(word.lower())\n",
    "        \n",
    "    text.append(new_sent)\n"
   ]
  },
  {
   "cell_type": "code",
   "execution_count": 88,
   "metadata": {},
   "outputs": [
    {
     "data": {
      "text/plain": [
       "[['twoface',\n",
       "  'harvey',\n",
       "  'dent',\n",
       "  'is',\n",
       "  'a',\n",
       "  'fictional',\n",
       "  'character',\n",
       "  'appearing',\n",
       "  'in',\n",
       "  'comic',\n",
       "  'books',\n",
       "  'published',\n",
       "  'by',\n",
       "  'dc',\n",
       "  'comics',\n",
       "  'commonly',\n",
       "  'as',\n",
       "  'an',\n",
       "  'adversary',\n",
       "  'of',\n",
       "  'the',\n",
       "  'superhero',\n",
       "  'batman'],\n",
       " ['',\n",
       "  'the',\n",
       "  'character',\n",
       "  'was',\n",
       "  'created',\n",
       "  'by',\n",
       "  'bob',\n",
       "  'kane',\n",
       "  '',\n",
       "  'and',\n",
       "  'bill',\n",
       "  'finger',\n",
       "  'and',\n",
       "  'first',\n",
       "  'appeared',\n",
       "  'in',\n",
       "  'detective',\n",
       "  'comics',\n",
       "  '66',\n",
       "  'august',\n",
       "  '1942']]"
      ]
     },
     "execution_count": 88,
     "metadata": {},
     "output_type": "execute_result"
    }
   ],
   "source": [
    "text[:2]"
   ]
  },
  {
   "cell_type": "code",
   "execution_count": 87,
   "metadata": {},
   "outputs": [],
   "source": [
    "model = gensim.models.Word2Vec(text,sg=1)"
   ]
  },
  {
   "cell_type": "code",
   "execution_count": 89,
   "metadata": {},
   "outputs": [
    {
     "data": {
      "text/plain": [
       "(26991, 68340)"
      ]
     },
     "execution_count": 89,
     "metadata": {},
     "output_type": "execute_result"
    }
   ],
   "source": [
    "model.train(text, total_examples=model.corpus_count, epochs=model.epochs)"
   ]
  },
  {
   "cell_type": "code",
   "execution_count": 90,
   "metadata": {},
   "outputs": [
    {
     "data": {
      "text/plain": [
       "13668"
      ]
     },
     "execution_count": 90,
     "metadata": {},
     "output_type": "execute_result"
    }
   ],
   "source": [
    "model.corpus_total_words"
   ]
  },
  {
   "cell_type": "code",
   "execution_count": 91,
   "metadata": {},
   "outputs": [
    {
     "data": {
      "text/plain": [
       "[('\\ntwoface', 0.9981786012649536),\n",
       " ('video', 0.997878909111023),\n",
       " ('animated', 0.9978392720222473),\n",
       " ('universe', 0.9977647066116333),\n",
       " ('television', 0.9977205991744995),\n",
       " ('movie', 0.9977039098739624),\n",
       " ('film', 0.9976729154586792),\n",
       " ('liveaction', 0.9976227879524231),\n",
       " ('series', 0.997494637966156),\n",
       " ('first', 0.9974403977394104)]"
      ]
     },
     "execution_count": 91,
     "metadata": {},
     "output_type": "execute_result"
    }
   ],
   "source": [
    "model.wv.most_similar(\"batman\")"
   ]
  },
  {
   "cell_type": "code",
   "execution_count": null,
   "metadata": {},
   "outputs": [],
   "source": []
  }
 ],
 "metadata": {
  "kernelspec": {
   "display_name": "Python 3",
   "language": "python",
   "name": "python3"
  },
  "language_info": {
   "codemirror_mode": {
    "name": "ipython",
    "version": 3
   },
   "file_extension": ".py",
   "mimetype": "text/x-python",
   "name": "python",
   "nbconvert_exporter": "python",
   "pygments_lexer": "ipython3",
   "version": "3.7.4"
  }
 },
 "nbformat": 4,
 "nbformat_minor": 4
}
