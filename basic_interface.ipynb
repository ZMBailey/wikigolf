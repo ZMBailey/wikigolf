{
 "cells": [
  {
   "cell_type": "code",
   "execution_count": 12,
   "metadata": {},
   "outputs": [],
   "source": [
    "import requests\n",
    "\n",
    "S = requests.Session()\n",
    "\n",
    "URL = \"https://en.wikipedia.org/w/api.php\"\n",
    "\n",
    "TITLE = 'Jurassic Park (novel)'\n",
    "\n",
    "PARAMS = {\n",
    "    'action': \"query\",\n",
    "    'titles': TITLE,\n",
    "    'prop': 'links',\n",
    "    'format': \"json\",\n",
    "}\n",
    "\n",
    "R = S.get(url=URL, params=PARAMS)\n",
    "data = R.json()\n",
    "#print(data['parse']['title'])"
   ]
  },
  {
   "cell_type": "code",
   "execution_count": 14,
   "metadata": {},
   "outputs": [
    {
     "data": {
      "text/plain": [
       "{'pages': {'5326809': {'pageid': 5326809,\n",
       "   'ns': 0,\n",
       "   'title': 'Jurassic Park (novel)',\n",
       "   'links': [{'ns': 0, 'title': '2000 AD (comics)'},\n",
       "    {'ns': 0, 'title': 'A Case of Need'},\n",
       "    {'ns': 0, 'title': 'Airframe (novel)'},\n",
       "    {'ns': 0, 'title': 'Alfred A. Knopf'},\n",
       "    {'ns': 0, 'title': 'Amazon (video game)'},\n",
       "    {'ns': 0, 'title': 'Amber'},\n",
       "    {'ns': 0, 'title': 'Amphibian'},\n",
       "    {'ns': 0, 'title': 'Amusement park'},\n",
       "    {'ns': 0, 'title': 'Ancient DNA'},\n",
       "    {'ns': 0, 'title': 'Andrew Ferguson'}]}}}"
      ]
     },
     "execution_count": 14,
     "metadata": {},
     "output_type": "execute_result"
    }
   ],
   "source": [
    "data['query']"
   ]
  },
  {
   "cell_type": "code",
   "execution_count": null,
   "metadata": {},
   "outputs": [],
   "source": []
  }
 ],
 "metadata": {
  "kernelspec": {
   "display_name": "Python 3",
   "language": "python",
   "name": "python3"
  },
  "language_info": {
   "codemirror_mode": {
    "name": "ipython",
    "version": 3
   },
   "file_extension": ".py",
   "mimetype": "text/x-python",
   "name": "python",
   "nbconvert_exporter": "python",
   "pygments_lexer": "ipython3",
   "version": "3.7.4"
  }
 },
 "nbformat": 4,
 "nbformat_minor": 4
}
